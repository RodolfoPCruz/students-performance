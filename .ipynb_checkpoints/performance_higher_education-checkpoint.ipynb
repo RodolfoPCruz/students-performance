{
 "cells": [
  {
   "cell_type": "code",
   "execution_count": 21,
   "metadata": {},
   "outputs": [],
   "source": [
    "import numpy as np\n",
    "import pandas as pd\n",
    "\n",
    "import seaborn as sns\n",
    "import matplotlib.pyplot as plt"
   ]
  },
  {
   "cell_type": "markdown",
   "metadata": {},
   "source": [
    "#  Dados"
   ]
  },
  {
   "cell_type": "markdown",
   "metadata": {},
   "source": [
    " Links para download dos dados:\n",
    "\n",
    "Performance de estudantes de educação superior\n",
    " - https://www.kaggle.com/datasets/csafrit2/higher-education-students-performance-evaluation\n",
    "\n"
   ]
  },
  {
   "cell_type": "markdown",
   "metadata": {},
   "source": [
    "## Descrição dos Datasets"
   ]
  },
  {
   "cell_type": "markdown",
   "metadata": {},
   "source": [
    "### Higher Education Students Performance Evaluation"
   ]
  },
  {
   "cell_type": "markdown",
   "metadata": {},
   "source": [
    "Referência:\n",
    "\n",
    "Yılmaz, Nevriye & Sekeroglu, Boran. (2020). Student Performance Classification Using Artificial Intelligence Techniques. 10.1007/978-3-030-35249-3_76. "
   ]
  },
  {
   "cell_type": "markdown",
   "metadata": {},
   "source": [
    "Abstract:\n",
    "\n",
    "The data was collected from the Faculty of Engineering and Faculty of Educational Sciences students in 2019. The purpose is to predict students' end-of-term performances using ML techniques."
   ]
  },
  {
   "cell_type": "markdown",
   "metadata": {},
   "source": [
    "O dataset foi obtido através de um questionário aplicado a estudantes de 2 faculdades da Near East University na Turquia. Esses estudantes eram alunos de três cursos: \n",
    "\n",
    "- ‘Assessment and Evaluation in Education’ of Faculty of Education\n",
    "- ‘General Physics II’ \n",
    "- ‘Electronics’ of Faculty of Engineering."
   ]
  },
  {
   "cell_type": "markdown",
   "metadata": {},
   "source": [
    "Descrição dos atributos:\n",
    "\n",
    "- Student Age (1: 18-21, 2: 22-25, 3: above 26)\n",
    "- Sex (1: female, 2: male)\n",
    "- Graduated high-school type: (1: private, 2: state, 3: other)\n",
    "- Scholarship type: (1: None, 2: 25%, 3: 50%, 4: 75%, 5: Full)\n",
    "- Additional work: (1: Yes, 2: No)\n",
    "- Regular artistic or sports activity: (1: Yes, 2: No)\n",
    "- Do you have a partner: (1: Yes, 2: No)\n",
    "- Total salary if available (1: USD 135-200, 2: USD 201-270, 3: USD 271-340, 4: USD 341-410, 5: above 410)\n",
    "- Transportation to the university: (1: Bus, 2: Private car/taxi, 3: bicycle, 4: Other)\n",
    "- Accommodation type in Cyprus: (1: rental, 2: dormitory, 3: with family, 4: Other)\n",
    "- Mother's education: (1: primary school, 2: secondary school, 3: high school, 4: university, 5: MSc., 6: Ph.D.)\n",
    "- Father's education: (1: primary school, 2: secondary school, 3: high school, 4: university, 5: MSc., 6: Ph.D.)\n",
    "- Number of sisters/brothers (if available): (1: 1, 2:, 2, 3: 3, 4: 4, 5: 5 or above)\n",
    "- Parental status: (1: married, 2: divorced, 3: died - one of them or both) ***Listed as \"Kids\"…woops\n",
    "- Mother's occupation: (1: retired, 2: housewife, 3: government officer, 4: private sector employee, 5: self-employment, 6: other)\n",
    "- Father's occupation: (1: retired, 2: government officer, 3: private sector employee, 4: self-employment, 5: other)\n",
    "- Weekly study hours: (1: None, 2: <5 hours, 3: 6-10 hours, 4: 11-20 hours, 5: more than 20 hours)\n",
    "- Reading frequency (non-scientific books/journals): (1: None, 2: Sometimes, 3: Often)\n",
    "- Reading frequency (scientific books/journals): (1: None, 2: Sometimes, 3: Often)\n",
    "- Attendance to the seminars/conferences related to the department: (1: Yes, 2: No)\n",
    "- Impact of your projects/activities on your success: (1: positive, 2: negative, 3: neutral)\n",
    "- Attendance to classes (1: always, 2: sometimes, 3: never)\n",
    "- Preparation to midterm exams 1: (1: alone, 2: with friends, 3: not applicable)\n",
    "- Preparation to midterm exams 2: (1: closest date to the exam, 2: regularly during the semester, 3: never)\n",
    "- Taking notes in classes: (1: never, 2: sometimes, 3: always)\n",
    "- Listening in classes: (1: never, 2: sometimes, 3: always)\n",
    "- Discussion improves my interest and success in the course: (1: never, 2: sometimes, 3: always)\n",
    "- Flip-classroom: (1: not useful, 2: useful, 3: not applicable)\n",
    "- Cumulative grade point average in the last semester (/4.00): (1: <2.00, 2: 2.00-2.49, 3: 2.50-2.99, 4: 3.00-3.49, 5: above 3.49)\n",
    "- Expected Cumulative grade point average in the graduation (/4.00): (1: <2.00, 2: 2.00-2.49, 3: 2.50-2.99, 4: 3.00-3.49, 5: above 3.49)\n",
    "- Course ID\n",
    "- OUTPUT Grade (0: Fail, 1: DD, 2: DC, 3: CC, 4: CB, 5: BB, 6: BA, 7: AA)"
   ]
  },
  {
   "cell_type": "markdown",
   "metadata": {},
   "source": [
    "### Student Performance in Secondary Education"
   ]
  },
  {
   "cell_type": "markdown",
   "metadata": {},
   "source": [
    "Referência:\n",
    "\n",
    "Cortez, Paulo & Silva, Alice. (2008). Using data mining to predict secondary school student performance. EUROSIS. "
   ]
  },
  {
   "cell_type": "markdown",
   "metadata": {},
   "source": [
    "This data approach student achievement in secondary education of two Portuguese schools. The data attributes include student grades, demographic, social and school related features) and it was collected by using school reports and questionnaires. Two datasets are provided regarding the performance in two distinct subjects: Mathematics (mat) and Portuguese language (por)"
   ]
  },
  {
   "cell_type": "markdown",
   "metadata": {},
   "source": [
    "Atributos:\n",
    "\n",
    "- school     : student's school (binary: 'GP' - Gabriel Pereira or 'MS' - Mousinho da Silveira)\n",
    "- sex        : student's sex (binary: 'F' - female or 'M' - male)\n",
    "- age        : student's age (numeric: from 15 to 22)\n",
    "- address    : student's home address type (binary: 'U' - urban or 'R' - rural)\n",
    "- famsize    : family size (binary: 'LE3' - less or equal to 3 or 'GT3' - greater than 3)\n",
    "- Pstatus    : parent's cohabitation status (binary: 'T' - living together or 'A' - apart)\n",
    "- Medu       : mother's education (numeric: 0 - none, 1 - primary education (4th grade), 2 â€“ 5th to 9th grade, 3 â€“ secondary education or 4 â€“ higher education)\n",
    "- Fedu       : father's education (numeric: 0 - none, 1 - primary education (4th grade), 2 â€“ 5th to 9th grade, 3 â€“ secondary education or 4 â€“ higher education)\n",
    "- Mjob       : mother's job (nominal: 'teacher', 'health' care related, civil 'services' (e.g. administrative or police), 'at_home' or 'other')\n",
    "- Fjob       : father's job (nominal: 'teacher', 'health' care related, civil 'services' (e.g. administrative or police), 'at_home' or 'other')\n",
    "- reason     : reason to choose this school (nominal: close to 'home', school 'reputation', 'course' preference or 'other')\n",
    "- guardian   : student's guardian (nominal: 'mother', 'father' or 'other')\n",
    "- traveltime : home to school travel time (numeric: 1 - <15 min., 2 - 15 to 30 min., 3 - 30 min. to 1 hour, or 4 - >1 hour)\n",
    "- studytime  : weekly study time (numeric: 1 - <2 hours, 2 - 2 to 5 hours, 3 - 5 to 10 hours, or 4 - >10 hours)\n",
    "- failures   : number of past class failures (numeric: n if 1<=n<3, else 4)\n",
    "- schoolsup  : extra educational support (binary: yes or no)\n",
    "- famsup     : family educational support (binary: yes or no)\n",
    "- paid       : extra paid classes within the course subject (Math or Portuguese) (binary: yes or no)\n",
    "- activities : extra-curricular activities (binary: yes or no)\n",
    "- nursery    : attended nursery school (binary: yes or no)\n",
    "- higher     : wants to take higher education (binary: yes or no)\n",
    "- internet   : Internet access at home (binary: yes or no)\n",
    "- romantic   : with a romantic relationship (binary: yes or no)\n",
    "- famrel     : quality of family relationships (numeric: from 1 - very bad to 5 - excellent)\n",
    "- freetime   : free time after school (numeric: from 1 - very low to 5 - very high)\n",
    "- goout      : going out with friends (numeric: from 1 - very low to 5 - very high)\n",
    "- Dalc       : workday alcohol consumption (numeric: from 1 - very low to 5 - very high)\n",
    "- Walc       : weekend alcohol consumption (numeric: from 1 - very low to 5 - very high)\n",
    "- health     : current health status (numeric: from 1 - very bad to 5 - very good)\n",
    "- absences   : number of school absences (numeric: from 0 to 93)\n",
    "- G1         : first period grade (numeric: from 0 to 20)\n",
    "- G2         : second period grade (numeric: from 0 to 20)\n",
    "- G3         : final grade (numeric: from 0 to 20, output target)\n"
   ]
  },
  {
   "cell_type": "markdown",
   "metadata": {},
   "source": [
    "## Carregar Dados"
   ]
  },
  {
   "cell_type": "code",
   "execution_count": 2,
   "metadata": {},
   "outputs": [],
   "source": [
    "#Pasta os os datasets estão armazenados\n",
    "\n",
    "path='../dados/'"
   ]
  },
  {
   "cell_type": "code",
   "execution_count": 3,
   "metadata": {},
   "outputs": [],
   "source": [
    "df_higher_education    = pd.read_csv(path+'higher_education_student_prediction.csv')\n",
    "df_secondary_education = pd.read_csv(path+'Secondary_student_performance.csv')"
   ]
  },
  {
   "cell_type": "markdown",
   "metadata": {},
   "source": [
    "# Análise Exploratória"
   ]
  },
  {
   "cell_type": "code",
   "execution_count": 58,
   "metadata": {},
   "outputs": [],
   "source": [
    "sns.set_style(\"darkgrid\")"
   ]
  },
  {
   "cell_type": "markdown",
   "metadata": {},
   "source": [
    "## Higher Education"
   ]
  },
  {
   "cell_type": "code",
   "execution_count": 4,
   "metadata": {},
   "outputs": [],
   "source": [
    "total_alunos=len(df_higher_education)"
   ]
  },
  {
   "cell_type": "code",
   "execution_count": 5,
   "metadata": {},
   "outputs": [
    {
     "name": "stdout",
     "output_type": "stream",
     "text": [
      "<class 'pandas.core.frame.DataFrame'>\n",
      "RangeIndex: 145 entries, 0 to 144\n",
      "Data columns (total 33 columns):\n",
      " #   Column         Non-Null Count  Dtype \n",
      "---  ------         --------------  ----- \n",
      " 0   STUDENTID      145 non-null    object\n",
      " 1   AGE            145 non-null    int64 \n",
      " 2   GENDER         145 non-null    int64 \n",
      " 3   HS_TYPE        145 non-null    int64 \n",
      " 4   SCHOLARSHIP    145 non-null    int64 \n",
      " 5   WORK           145 non-null    int64 \n",
      " 6   ACTIVITY       145 non-null    int64 \n",
      " 7   PARTNER        145 non-null    int64 \n",
      " 8   SALARY         145 non-null    int64 \n",
      " 9   TRANSPORT      145 non-null    int64 \n",
      " 10  LIVING         145 non-null    int64 \n",
      " 11  MOTHER_EDU     145 non-null    int64 \n",
      " 12  FATHER_EDU     145 non-null    int64 \n",
      " 13  #_SIBLINGS     145 non-null    int64 \n",
      " 14  KIDS           145 non-null    int64 \n",
      " 15  MOTHER_JOB     145 non-null    int64 \n",
      " 16  FATHER_JOB     145 non-null    int64 \n",
      " 17  STUDY_HRS      145 non-null    int64 \n",
      " 18  READ_FREQ      145 non-null    int64 \n",
      " 19  READ_FREQ_SCI  145 non-null    int64 \n",
      " 20  ATTEND_DEPT    145 non-null    int64 \n",
      " 21  IMPACT         145 non-null    int64 \n",
      " 22  ATTEND         145 non-null    int64 \n",
      " 23  PREP_STUDY     145 non-null    int64 \n",
      " 24  PREP_EXAM      145 non-null    int64 \n",
      " 25  NOTES          145 non-null    int64 \n",
      " 26  LISTENS        145 non-null    int64 \n",
      " 27  LIKES_DISCUSS  145 non-null    int64 \n",
      " 28  CLASSROOM      145 non-null    int64 \n",
      " 29  CUML_GPA       145 non-null    int64 \n",
      " 30  EXP_GPA        145 non-null    int64 \n",
      " 31  COURSE ID      145 non-null    int64 \n",
      " 32  GRADE          145 non-null    int64 \n",
      "dtypes: int64(32), object(1)\n",
      "memory usage: 37.5+ KB\n"
     ]
    }
   ],
   "source": [
    "df_higher_education.info()"
   ]
  },
  {
   "cell_type": "code",
   "execution_count": 6,
   "metadata": {},
   "outputs": [
    {
     "data": {
      "text/html": [
       "<div>\n",
       "<style scoped>\n",
       "    .dataframe tbody tr th:only-of-type {\n",
       "        vertical-align: middle;\n",
       "    }\n",
       "\n",
       "    .dataframe tbody tr th {\n",
       "        vertical-align: top;\n",
       "    }\n",
       "\n",
       "    .dataframe thead th {\n",
       "        text-align: right;\n",
       "    }\n",
       "</style>\n",
       "<table border=\"1\" class=\"dataframe\">\n",
       "  <thead>\n",
       "    <tr style=\"text-align: right;\">\n",
       "      <th></th>\n",
       "      <th>AGE</th>\n",
       "      <th>GENDER</th>\n",
       "      <th>HS_TYPE</th>\n",
       "      <th>SCHOLARSHIP</th>\n",
       "      <th>WORK</th>\n",
       "      <th>ACTIVITY</th>\n",
       "      <th>PARTNER</th>\n",
       "      <th>SALARY</th>\n",
       "      <th>TRANSPORT</th>\n",
       "      <th>LIVING</th>\n",
       "      <th>...</th>\n",
       "      <th>PREP_STUDY</th>\n",
       "      <th>PREP_EXAM</th>\n",
       "      <th>NOTES</th>\n",
       "      <th>LISTENS</th>\n",
       "      <th>LIKES_DISCUSS</th>\n",
       "      <th>CLASSROOM</th>\n",
       "      <th>CUML_GPA</th>\n",
       "      <th>EXP_GPA</th>\n",
       "      <th>COURSE ID</th>\n",
       "      <th>GRADE</th>\n",
       "    </tr>\n",
       "  </thead>\n",
       "  <tbody>\n",
       "    <tr>\n",
       "      <th>count</th>\n",
       "      <td>145.000000</td>\n",
       "      <td>145.000000</td>\n",
       "      <td>145.000000</td>\n",
       "      <td>145.000000</td>\n",
       "      <td>145.000000</td>\n",
       "      <td>145.000000</td>\n",
       "      <td>145.000000</td>\n",
       "      <td>145.000000</td>\n",
       "      <td>145.000000</td>\n",
       "      <td>145.000000</td>\n",
       "      <td>...</td>\n",
       "      <td>145.000000</td>\n",
       "      <td>145.000000</td>\n",
       "      <td>145.000000</td>\n",
       "      <td>145.000000</td>\n",
       "      <td>145.000000</td>\n",
       "      <td>145.000000</td>\n",
       "      <td>145.000000</td>\n",
       "      <td>145.000000</td>\n",
       "      <td>145.000000</td>\n",
       "      <td>145.000000</td>\n",
       "    </tr>\n",
       "    <tr>\n",
       "      <th>mean</th>\n",
       "      <td>1.620690</td>\n",
       "      <td>1.600000</td>\n",
       "      <td>1.944828</td>\n",
       "      <td>3.572414</td>\n",
       "      <td>1.662069</td>\n",
       "      <td>1.600000</td>\n",
       "      <td>1.579310</td>\n",
       "      <td>1.627586</td>\n",
       "      <td>1.620690</td>\n",
       "      <td>1.731034</td>\n",
       "      <td>...</td>\n",
       "      <td>1.337931</td>\n",
       "      <td>1.165517</td>\n",
       "      <td>2.544828</td>\n",
       "      <td>2.055172</td>\n",
       "      <td>2.393103</td>\n",
       "      <td>1.806897</td>\n",
       "      <td>3.124138</td>\n",
       "      <td>2.724138</td>\n",
       "      <td>4.131034</td>\n",
       "      <td>3.227586</td>\n",
       "    </tr>\n",
       "    <tr>\n",
       "      <th>std</th>\n",
       "      <td>0.613154</td>\n",
       "      <td>0.491596</td>\n",
       "      <td>0.537216</td>\n",
       "      <td>0.805750</td>\n",
       "      <td>0.474644</td>\n",
       "      <td>0.491596</td>\n",
       "      <td>0.495381</td>\n",
       "      <td>1.020245</td>\n",
       "      <td>1.061112</td>\n",
       "      <td>0.783999</td>\n",
       "      <td>...</td>\n",
       "      <td>0.614870</td>\n",
       "      <td>0.408483</td>\n",
       "      <td>0.564940</td>\n",
       "      <td>0.674736</td>\n",
       "      <td>0.604343</td>\n",
       "      <td>0.810492</td>\n",
       "      <td>1.301083</td>\n",
       "      <td>0.916536</td>\n",
       "      <td>3.260145</td>\n",
       "      <td>2.197678</td>\n",
       "    </tr>\n",
       "    <tr>\n",
       "      <th>min</th>\n",
       "      <td>1.000000</td>\n",
       "      <td>1.000000</td>\n",
       "      <td>1.000000</td>\n",
       "      <td>1.000000</td>\n",
       "      <td>1.000000</td>\n",
       "      <td>1.000000</td>\n",
       "      <td>1.000000</td>\n",
       "      <td>1.000000</td>\n",
       "      <td>1.000000</td>\n",
       "      <td>1.000000</td>\n",
       "      <td>...</td>\n",
       "      <td>1.000000</td>\n",
       "      <td>1.000000</td>\n",
       "      <td>1.000000</td>\n",
       "      <td>1.000000</td>\n",
       "      <td>1.000000</td>\n",
       "      <td>1.000000</td>\n",
       "      <td>1.000000</td>\n",
       "      <td>1.000000</td>\n",
       "      <td>1.000000</td>\n",
       "      <td>0.000000</td>\n",
       "    </tr>\n",
       "    <tr>\n",
       "      <th>25%</th>\n",
       "      <td>1.000000</td>\n",
       "      <td>1.000000</td>\n",
       "      <td>2.000000</td>\n",
       "      <td>3.000000</td>\n",
       "      <td>1.000000</td>\n",
       "      <td>1.000000</td>\n",
       "      <td>1.000000</td>\n",
       "      <td>1.000000</td>\n",
       "      <td>1.000000</td>\n",
       "      <td>1.000000</td>\n",
       "      <td>...</td>\n",
       "      <td>1.000000</td>\n",
       "      <td>1.000000</td>\n",
       "      <td>2.000000</td>\n",
       "      <td>2.000000</td>\n",
       "      <td>2.000000</td>\n",
       "      <td>1.000000</td>\n",
       "      <td>2.000000</td>\n",
       "      <td>2.000000</td>\n",
       "      <td>1.000000</td>\n",
       "      <td>1.000000</td>\n",
       "    </tr>\n",
       "    <tr>\n",
       "      <th>50%</th>\n",
       "      <td>2.000000</td>\n",
       "      <td>2.000000</td>\n",
       "      <td>2.000000</td>\n",
       "      <td>3.000000</td>\n",
       "      <td>2.000000</td>\n",
       "      <td>2.000000</td>\n",
       "      <td>2.000000</td>\n",
       "      <td>1.000000</td>\n",
       "      <td>1.000000</td>\n",
       "      <td>2.000000</td>\n",
       "      <td>...</td>\n",
       "      <td>1.000000</td>\n",
       "      <td>1.000000</td>\n",
       "      <td>3.000000</td>\n",
       "      <td>2.000000</td>\n",
       "      <td>2.000000</td>\n",
       "      <td>2.000000</td>\n",
       "      <td>3.000000</td>\n",
       "      <td>3.000000</td>\n",
       "      <td>3.000000</td>\n",
       "      <td>3.000000</td>\n",
       "    </tr>\n",
       "    <tr>\n",
       "      <th>75%</th>\n",
       "      <td>2.000000</td>\n",
       "      <td>2.000000</td>\n",
       "      <td>2.000000</td>\n",
       "      <td>4.000000</td>\n",
       "      <td>2.000000</td>\n",
       "      <td>2.000000</td>\n",
       "      <td>2.000000</td>\n",
       "      <td>2.000000</td>\n",
       "      <td>2.000000</td>\n",
       "      <td>2.000000</td>\n",
       "      <td>...</td>\n",
       "      <td>2.000000</td>\n",
       "      <td>1.000000</td>\n",
       "      <td>3.000000</td>\n",
       "      <td>3.000000</td>\n",
       "      <td>3.000000</td>\n",
       "      <td>2.000000</td>\n",
       "      <td>4.000000</td>\n",
       "      <td>3.000000</td>\n",
       "      <td>7.000000</td>\n",
       "      <td>5.000000</td>\n",
       "    </tr>\n",
       "    <tr>\n",
       "      <th>max</th>\n",
       "      <td>3.000000</td>\n",
       "      <td>2.000000</td>\n",
       "      <td>3.000000</td>\n",
       "      <td>5.000000</td>\n",
       "      <td>2.000000</td>\n",
       "      <td>2.000000</td>\n",
       "      <td>2.000000</td>\n",
       "      <td>5.000000</td>\n",
       "      <td>4.000000</td>\n",
       "      <td>4.000000</td>\n",
       "      <td>...</td>\n",
       "      <td>3.000000</td>\n",
       "      <td>3.000000</td>\n",
       "      <td>3.000000</td>\n",
       "      <td>3.000000</td>\n",
       "      <td>3.000000</td>\n",
       "      <td>3.000000</td>\n",
       "      <td>5.000000</td>\n",
       "      <td>4.000000</td>\n",
       "      <td>9.000000</td>\n",
       "      <td>7.000000</td>\n",
       "    </tr>\n",
       "  </tbody>\n",
       "</table>\n",
       "<p>8 rows × 32 columns</p>\n",
       "</div>"
      ],
      "text/plain": [
       "              AGE      GENDER     HS_TYPE  SCHOLARSHIP        WORK  \\\n",
       "count  145.000000  145.000000  145.000000   145.000000  145.000000   \n",
       "mean     1.620690    1.600000    1.944828     3.572414    1.662069   \n",
       "std      0.613154    0.491596    0.537216     0.805750    0.474644   \n",
       "min      1.000000    1.000000    1.000000     1.000000    1.000000   \n",
       "25%      1.000000    1.000000    2.000000     3.000000    1.000000   \n",
       "50%      2.000000    2.000000    2.000000     3.000000    2.000000   \n",
       "75%      2.000000    2.000000    2.000000     4.000000    2.000000   \n",
       "max      3.000000    2.000000    3.000000     5.000000    2.000000   \n",
       "\n",
       "         ACTIVITY     PARTNER      SALARY   TRANSPORT      LIVING  ...  \\\n",
       "count  145.000000  145.000000  145.000000  145.000000  145.000000  ...   \n",
       "mean     1.600000    1.579310    1.627586    1.620690    1.731034  ...   \n",
       "std      0.491596    0.495381    1.020245    1.061112    0.783999  ...   \n",
       "min      1.000000    1.000000    1.000000    1.000000    1.000000  ...   \n",
       "25%      1.000000    1.000000    1.000000    1.000000    1.000000  ...   \n",
       "50%      2.000000    2.000000    1.000000    1.000000    2.000000  ...   \n",
       "75%      2.000000    2.000000    2.000000    2.000000    2.000000  ...   \n",
       "max      2.000000    2.000000    5.000000    4.000000    4.000000  ...   \n",
       "\n",
       "       PREP_STUDY   PREP_EXAM       NOTES     LISTENS  LIKES_DISCUSS  \\\n",
       "count  145.000000  145.000000  145.000000  145.000000     145.000000   \n",
       "mean     1.337931    1.165517    2.544828    2.055172       2.393103   \n",
       "std      0.614870    0.408483    0.564940    0.674736       0.604343   \n",
       "min      1.000000    1.000000    1.000000    1.000000       1.000000   \n",
       "25%      1.000000    1.000000    2.000000    2.000000       2.000000   \n",
       "50%      1.000000    1.000000    3.000000    2.000000       2.000000   \n",
       "75%      2.000000    1.000000    3.000000    3.000000       3.000000   \n",
       "max      3.000000    3.000000    3.000000    3.000000       3.000000   \n",
       "\n",
       "        CLASSROOM    CUML_GPA     EXP_GPA   COURSE ID       GRADE  \n",
       "count  145.000000  145.000000  145.000000  145.000000  145.000000  \n",
       "mean     1.806897    3.124138    2.724138    4.131034    3.227586  \n",
       "std      0.810492    1.301083    0.916536    3.260145    2.197678  \n",
       "min      1.000000    1.000000    1.000000    1.000000    0.000000  \n",
       "25%      1.000000    2.000000    2.000000    1.000000    1.000000  \n",
       "50%      2.000000    3.000000    3.000000    3.000000    3.000000  \n",
       "75%      2.000000    4.000000    3.000000    7.000000    5.000000  \n",
       "max      3.000000    5.000000    4.000000    9.000000    7.000000  \n",
       "\n",
       "[8 rows x 32 columns]"
      ]
     },
     "execution_count": 6,
     "metadata": {},
     "output_type": "execute_result"
    }
   ],
   "source": [
    "df_higher_education.describe()"
   ]
  },
  {
   "cell_type": "code",
   "execution_count": 7,
   "metadata": {},
   "outputs": [],
   "source": [
    "def criar_df_value_counts_proporcao(df,coluna,lookup_table,nome_index,nome_coluna='Proporcao (%)'):\n",
    "    x=pd.DataFrame(df[coluna].value_counts()/len(df))    #criar novo dataframe a partir do value_counts dividido pelo número total de rows    \n",
    "    x.index=[lookup_table[i] for i in x.index.to_list()] #renomear os valores no index \n",
    "    x.index.names=[nome_index]                           #renomear o index                               \n",
    "    x=x.rename(columns={'count':nome_coluna})            #renomear a coluna\n",
    "    return x"
   ]
  },
  {
   "cell_type": "code",
   "execution_count": 95,
   "metadata": {},
   "outputs": [],
   "source": [
    "def gerar_subplot_proporcao_por_grupo(df,lookup_table,coluna_groupby,nrows=1,coluna_contagem='STUDENTID',figsize=(22,6),xlabel='Nota',ylabel='Proporção'):\n",
    "    ncols=df[coluna_groupby].nunique()\n",
    "    df=df.groupby([coluna_groupby,\"GRADE\"]).count().loc[:,[coluna_contagem]]\n",
    "    fig,axs=plt.subplots(ncols=ncols,nrows=nrows,figsize=figsize)\n",
    "    for i in range(1,ncols+1):\n",
    "        x=df.loc[i,:]/df.loc[i,:].sum()\n",
    "        sns.barplot(data=x,x=x.index,y=coluna_contagem,ax=axs[i-1])\n",
    "        axs[i-1].set_xlabel(xlabel)\n",
    "        axs[i-1].set_ylabel(ylabel)\n",
    "        axs[i-1].set_title(coluna_groupby+': {}'.format(lookup_table[i]))"
   ]
  },
  {
   "cell_type": "markdown",
   "metadata": {},
   "source": [
    "### Age"
   ]
  },
  {
   "cell_type": "code",
   "execution_count": 8,
   "metadata": {},
   "outputs": [
    {
     "data": {
      "text/html": [
       "<div>\n",
       "<style scoped>\n",
       "    .dataframe tbody tr th:only-of-type {\n",
       "        vertical-align: middle;\n",
       "    }\n",
       "\n",
       "    .dataframe tbody tr th {\n",
       "        vertical-align: top;\n",
       "    }\n",
       "\n",
       "    .dataframe thead th {\n",
       "        text-align: right;\n",
       "    }\n",
       "</style>\n",
       "<table border=\"1\" class=\"dataframe\">\n",
       "  <thead>\n",
       "    <tr style=\"text-align: right;\">\n",
       "      <th></th>\n",
       "      <th>Proporcao (%)</th>\n",
       "    </tr>\n",
       "    <tr>\n",
       "      <th>Idade</th>\n",
       "      <th></th>\n",
       "    </tr>\n",
       "  </thead>\n",
       "  <tbody>\n",
       "    <tr>\n",
       "      <th>22-25</th>\n",
       "      <td>0.482759</td>\n",
       "    </tr>\n",
       "    <tr>\n",
       "      <th>18-21</th>\n",
       "      <td>0.448276</td>\n",
       "    </tr>\n",
       "    <tr>\n",
       "      <th>&gt;=26</th>\n",
       "      <td>0.068966</td>\n",
       "    </tr>\n",
       "  </tbody>\n",
       "</table>\n",
       "</div>"
      ],
      "text/plain": [
       "       Proporcao (%)\n",
       "Idade               \n",
       "22-25       0.482759\n",
       "18-21       0.448276\n",
       ">=26        0.068966"
      ]
     },
     "execution_count": 8,
     "metadata": {},
     "output_type": "execute_result"
    }
   ],
   "source": [
    "# Proporcao de alunos em cada grupo de idade\n",
    "\n",
    "index_idade={1:'18-21',2:'22-25',3:'>=26'}\n",
    "idade_higher_education=criar_df_value_counts_proporcao(df_higher_education,\"AGE\",index_idade,'Idade')\n",
    "idade_higher_education"
   ]
  },
  {
   "cell_type": "code",
   "execution_count": 59,
   "metadata": {},
   "outputs": [
    {
     "data": {
      "text/plain": [
       "([<matplotlib.axis.XTick at 0x7f61e1e72690>,\n",
       "  <matplotlib.axis.XTick at 0x7f61e1d9aff0>,\n",
       "  <matplotlib.axis.XTick at 0x7f61e3963320>],\n",
       " [Text(0, 0, '18-21'), Text(1, 0, '22-25'), Text(2, 0, '>=26')])"
      ]
     },
     "execution_count": 59,
     "metadata": {},
     "output_type": "execute_result"
    },
    {
     "data": {
      "image/png": "[encoded data removed]",
      "text/plain": [
       "<Figure size 640x480 with 1 Axes>"
      ]
     },
     "metadata": {},
     "output_type": "display_data"
    }
   ],
   "source": [
    "#Proporção em relação ao total de alunos\n",
    "#Alunos divididos por idade e nota\n",
    "#Por exemplo, qual a proporção de aluno com idade entre 18 e 21 anos tirou nota 0\n",
    "\n",
    "sns.countplot(data=df_higher_education,x='AGE',hue='GRADE',stat='proportion',palette='Blues')\n",
    "plt.xticks(ticks=[0,1,2],labels=[index_idade[i]for i in range(1,4)])"
   ]
  },
  {
   "cell_type": "code",
   "execution_count": 96,
   "metadata": {},
   "outputs": [
    {
     "data": {
      "image/png": "[encoded data removed]",
      "text/plain": [
       "<Figure size 2200x600 with 3 Axes>"
      ]
     },
     "metadata": {},
     "output_type": "display_data"
    }
   ],
   "source": [
    "#Proporção em relação ao total dentro de cada grupo\n",
    "#Por exemplo, dentre os alunos com idade entre 18 e 21 anos, qual a proporção tirou nota 0\n",
    "\n",
    "\n",
    "gerar_subplot_proporcao_por_grupo(df_higher_education,index_idade,\"AGE\")"
   ]
  },
  {
   "cell_type": "markdown",
   "metadata": {},
   "source": [
    "### Gender"
   ]
  },
  {
   "cell_type": "code",
   "execution_count": 56,
   "metadata": {},
   "outputs": [
    {
     "data": {
      "text/html": [
       "<div>\n",
       "<style scoped>\n",
       "    .dataframe tbody tr th:only-of-type {\n",
       "        vertical-align: middle;\n",
       "    }\n",
       "\n",
       "    .dataframe tbody tr th {\n",
       "        vertical-align: top;\n",
       "    }\n",
       "\n",
       "    .dataframe thead th {\n",
       "        text-align: right;\n",
       "    }\n",
       "</style>\n",
       "<table border=\"1\" class=\"dataframe\">\n",
       "  <thead>\n",
       "    <tr style=\"text-align: right;\">\n",
       "      <th></th>\n",
       "      <th>Proporcao (%)</th>\n",
       "    </tr>\n",
       "    <tr>\n",
       "      <th>Gender</th>\n",
       "      <th></th>\n",
       "    </tr>\n",
       "  </thead>\n",
       "  <tbody>\n",
       "    <tr>\n",
       "      <th>male</th>\n",
       "      <td>0.6</td>\n",
       "    </tr>\n",
       "    <tr>\n",
       "      <th>female</th>\n",
       "      <td>0.4</td>\n",
       "    </tr>\n",
       "  </tbody>\n",
       "</table>\n",
       "</div>"
      ],
      "text/plain": [
       "        Proporcao (%)\n",
       "Gender               \n",
       "male              0.6\n",
       "female            0.4"
      ]
     },
     "execution_count": 56,
     "metadata": {},
     "output_type": "execute_result"
    }
   ],
   "source": [
    "# Proporcao de alunos em cada grupo de idade\n",
    "\n",
    "\n",
    "#Sex (1: female, 2: male)\n",
    "index_gender={1: 'female', 2: 'male'}\n",
    "gender_higher_education=criar_df_value_counts_proporcao(df_higher_education,\"GENDER\",index_gender,'Gender')\n",
    "gender_higher_education"
   ]
  },
  {
   "cell_type": "code",
   "execution_count": 63,
   "metadata": {},
   "outputs": [
    {
     "data": {
      "text/plain": [
       "([<matplotlib.axis.XTick at 0x7f61e0bae000>,\n",
       "  <matplotlib.axis.XTick at 0x7f61e0c3dd00>],\n",
       " [Text(0, 0, 'female'), Text(1, 0, 'male')])"
      ]
     },
     "execution_count": 63,
     "metadata": {},
     "output_type": "execute_result"
    },
    {
     "data": {
      "image/png": "[encoded data removed]",
      "text/plain": [
       "<Figure size 640x480 with 1 Axes>"
      ]
     },
     "metadata": {},
     "output_type": "display_data"
    }
   ],
   "source": [
    "#Proporção em relação ao total de alunos\n",
    "#Divididos por sexo e nota\n",
    "\n",
    "sns.countplot(data=df_higher_education,x='GENDER',hue='GRADE',stat='proportion',palette='Blues')\n",
    "plt.xticks(ticks=[0,1],labels=[index_gender[i]for i in range(1,3)])"
   ]
  },
  {
   "cell_type": "code",
   "execution_count": 97,
   "metadata": {},
   "outputs": [
    {
     "data": {
      "image/png": "[encoded data removed]",
      "text/plain": [
       "<Figure size 2200x600 with 2 Axes>"
      ]
     },
     "metadata": {},
     "output_type": "display_data"
    }
   ],
   "source": [
    "#Proporção dentro de cada grupo\n",
    "\n",
    "gerar_subplot_proporcao_por_grupo(df_higher_education,index_gender,\"GENDER\")"
   ]
  },
  {
   "cell_type": "markdown",
   "metadata": {},
   "source": [
    "### Graduated high-school type"
   ]
  },
  {
   "cell_type": "code",
   "execution_count": 101,
   "metadata": {},
   "outputs": [
    {
     "data": {
      "text/html": [
       "<div>\n",
       "<style scoped>\n",
       "    .dataframe tbody tr th:only-of-type {\n",
       "        vertical-align: middle;\n",
       "    }\n",
       "\n",
       "    .dataframe tbody tr th {\n",
       "        vertical-align: top;\n",
       "    }\n",
       "\n",
       "    .dataframe thead th {\n",
       "        text-align: right;\n",
       "    }\n",
       "</style>\n",
       "<table border=\"1\" class=\"dataframe\">\n",
       "  <thead>\n",
       "    <tr style=\"text-align: right;\">\n",
       "      <th></th>\n",
       "      <th>Proporcao (%)</th>\n",
       "    </tr>\n",
       "    <tr>\n",
       "      <th>High School Type</th>\n",
       "      <th></th>\n",
       "    </tr>\n",
       "  </thead>\n",
       "  <tbody>\n",
       "    <tr>\n",
       "      <th>state</th>\n",
       "      <td>0.710345</td>\n",
       "    </tr>\n",
       "    <tr>\n",
       "      <th>private</th>\n",
       "      <td>0.172414</td>\n",
       "    </tr>\n",
       "    <tr>\n",
       "      <th>other</th>\n",
       "      <td>0.117241</td>\n",
       "    </tr>\n",
       "  </tbody>\n",
       "</table>\n",
       "</div>"
      ],
      "text/plain": [
       "                  Proporcao (%)\n",
       "High School Type               \n",
       "state                  0.710345\n",
       "private                0.172414\n",
       "other                  0.117241"
      ]
     },
     "execution_count": 101,
     "metadata": {},
     "output_type": "execute_result"
    }
   ],
   "source": [
    "index_high_school = {1: 'private', 2: 'state', 3: 'other'}\n",
    "criar_df_value_counts_proporcao(df_higher_education,'HS_TYPE',index_high_school,'High School Type')"
   ]
  },
  {
   "cell_type": "code",
   "execution_count": 102,
   "metadata": {},
   "outputs": [
    {
     "data": {
      "text/plain": [
       "([<matplotlib.axis.XTick at 0x7f61e3c5dd00>,\n",
       "  <matplotlib.axis.XTick at 0x7f61e3bc7680>],\n",
       " [Text(0, 0, 'private'), Text(1, 0, 'state')])"
      ]
     },
     "execution_count": 102,
     "metadata": {},
     "output_type": "execute_result"
    },
    {
     "data": {
      "image/png": "[encoded data removed]",
      "text/plain": [
       "<Figure size 640x480 with 1 Axes>"
      ]
     },
     "metadata": {},
     "output_type": "display_data"
    }
   ],
   "source": [
    "#Proporção em relação ao total de alunos\n",
    "#Divididos por high school e nota\n",
    "\n",
    "sns.countplot(data=df_higher_education,x='HS_TYPE',hue='GRADE',stat='proportion',palette='Blues')\n",
    "plt.xticks(ticks=[0,1],labels=[index_high_school[i]for i in range(1,3)])"
   ]
  }
 ],
 "metadata": {
  "kernelspec": {
   "display_name": "Python 3 (ipykernel)",
   "language": "python",
   "name": "python3"
  },
  "language_info": {
   "codemirror_mode": {
    "name": "ipython",
    "version": 3
   },
   "file_extension": ".py",
   "mimetype": "text/x-python",
   "name": "python",
   "nbconvert_exporter": "python",
   "pygments_lexer": "ipython3",
   "version": "3.9.18"
  },
  "toc": {
   "base_numbering": 1,
   "nav_menu": {},
   "number_sections": true,
   "sideBar": true,
   "skip_h1_title": false,
   "title_cell": "Table of Contents",
   "title_sidebar": "Contents",
   "toc_cell": false,
   "toc_position": {},
   "toc_section_display": true,
   "toc_window_display": false
  }
 },
 "nbformat": 4,
 "nbformat_minor": 2
}
