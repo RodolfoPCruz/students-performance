{
 "cells": [
  {
   "cell_type": "code",
   "execution_count": null,
   "metadata": {},
   "outputs": [],
   "source": [
    "import numpy as np\n",
    "import pandas as pd\n",
    "\n",
    "import seaborn as sns\n",
    "import matplotlib.pyplot as plt"
   ]
  },
  {
   "cell_type": "markdown",
   "metadata": {},
   "source": [
    "# Dados"
   ]
  },
  {
   "cell_type": "markdown",
   "metadata": {},
   "source": [
    "Links para download dos dados:\n",
    "\n",
    "Performance de estudantes de educação superior\n",
    " - https://www.kaggle.com/datasets/larsen0966/student-performance-data-set"
   ]
  },
  {
   "cell_type": "markdown",
   "metadata": {},
   "source": [
    "## Descrição do Dataset"
   ]
  },
  {
   "cell_type": "markdown",
   "metadata": {},
   "source": [
    "Student Performance in Secondary Education"
   ]
  },
  {
   "cell_type": "markdown",
   "metadata": {},
   "source": [
    "Referência:\n",
    "\n",
    "Cortez, Paulo & Silva, Alice. (2008). Using data mining to predict secondary school student performance. EUROSIS. "
   ]
  },
  {
   "cell_type": "markdown",
   "metadata": {},
   "source": [
    "This data approach student achievement in secondary education of two Portuguese schools. The data attributes include student grades, demographic, social and school related features) and it was collected by using school reports and questionnaires. Two datasets are provided regarding the performance in two distinct subjects: Mathematics (mat) and Portuguese language (por)"
   ]
  },
  {
   "cell_type": "markdown",
   "metadata": {},
   "source": [
    "Atributos:\n",
    "\n",
    "    school : student's school (binary: 'GP' - Gabriel Pereira or 'MS' - Mousinho da Silveira)\n",
    "    sex : student's sex (binary: 'F' - female or 'M' - male)\n",
    "    age : student's age (numeric: from 15 to 22)\n",
    "    address : student's home address type (binary: 'U' - urban or 'R' - rural)\n",
    "    famsize : family size (binary: 'LE3' - less or equal to 3 or 'GT3' - greater than 3)\n",
    "    Pstatus : parent's cohabitation status (binary: 'T' - living together or 'A' - apart)\n",
    "    Medu : mother's education (numeric: 0 - none, 1 - primary education (4th grade), 2 â€“ 5th to 9th grade, 3 â€“ secondary education or 4 â€“ higher education)\n",
    "    Fedu : father's education (numeric: 0 - none, 1 - primary education (4th grade), 2 â€“ 5th to 9th grade, 3 â€“ secondary education or 4 â€“ higher education)\n",
    "    Mjob : mother's job (nominal: 'teacher', 'health' care related, civil 'services' (e.g. administrative or police), 'at_home' or 'other')\n",
    "    Fjob : father's job (nominal: 'teacher', 'health' care related, civil 'services' (e.g. administrative or police), 'at_home' or 'other')\n",
    "    reason : reason to choose this school (nominal: close to 'home', school 'reputation', 'course' preference or 'other')\n",
    "    guardian : student's guardian (nominal: 'mother', 'father' or 'other')\n",
    "    traveltime : home to school travel time (numeric: 1 - <15 min., 2 - 15 to 30 min., 3 - 30 min. to 1 hour, or 4 - >1 hour)\n",
    "    studytime : weekly study time (numeric: 1 - <2 hours, 2 - 2 to 5 hours, 3 - 5 to 10 hours, or 4 - >10 hours)\n",
    "    failures : number of past class failures (numeric: n if 1<=n<3, else 4)\n",
    "    schoolsup : extra educational support (binary: yes or no)\n",
    "    famsup : family educational support (binary: yes or no)\n",
    "    paid : extra paid classes within the course subject (Math or Portuguese) (binary: yes or no)\n",
    "    activities : extra-curricular activities (binary: yes or no)\n",
    "    nursery : attended nursery school (binary: yes or no)\n",
    "    higher : wants to take higher education (binary: yes or no)\n",
    "    internet : Internet access at home (binary: yes or no)\n",
    "    romantic : with a romantic relationship (binary: yes or no)\n",
    "    famrel : quality of family relationships (numeric: from 1 - very bad to 5 - excellent)\n",
    "    freetime : free time after school (numeric: from 1 - very low to 5 - very high)\n",
    "    goout : going out with friends (numeric: from 1 - very low to 5 - very high)\n",
    "    Dalc : workday alcohol consumption (numeric: from 1 - very low to 5 - very high)\n",
    "    Walc : weekend alcohol consumption (numeric: from 1 - very low to 5 - very high)\n",
    "    health : current health status (numeric: from 1 - very bad to 5 - very good)\n",
    "    absences : number of school absences (numeric: from 0 to 93)\n",
    "    G1 : first period grade (numeric: from 0 to 20)\n",
    "    G2 : second period grade (numeric: from 0 to 20)\n",
    "    G3 : final grade (numeric: from 0 to 20, output target)\n",
    "\n"
   ]
  },
  {
   "cell_type": "markdown",
   "metadata": {},
   "source": [
    "## Carregar Dados"
   ]
  },
  {
   "cell_type": "code",
   "execution_count": null,
   "metadata": {},
   "outputs": [],
   "source": [
    "#Pasta os os datasets estão armazenados\n",
    "\n",
    "path='../dados/'"
   ]
  },
  {
   "cell_type": "code",
   "execution_count": null,
   "metadata": {},
   "outputs": [],
   "source": [
    "df_secondary_education = pd.read_csv(path+'Secondary_student_performance.csv')"
   ]
  }
 ],
 "metadata": {
  "language_info": {
   "name": "python"
  }
 },
 "nbformat": 4,
 "nbformat_minor": 2
}
